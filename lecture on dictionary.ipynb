{
 "cells": [
  {
   "cell_type": "code",
   "execution_count": null,
   "id": "7200b16f-ba12-4035-9f8e-71a697aaf884",
   "metadata": {},
   "outputs": [],
   "source": [
    "#Question 1:"
   ]
  },
  {
   "cell_type": "code",
   "execution_count": 33,
   "id": "a23cf996-b6ea-47c0-a103-0ab4ecb1591b",
   "metadata": {},
   "outputs": [
    {
     "name": "stdout",
     "output_type": "stream",
     "text": [
      "Trucks is one of most popular with 2100 units\n"
     ]
    }
   ],
   "source": [
    "customer_orders = {\n",
    "    \"cars\" : 1000,\n",
    "    \"trains\" : 200,\n",
    "    \"planes\" : 900,\n",
    "    \"trucks\" : 2100,\n",
    "    \"tanks\" : 400,\n",
    "    \"Armored Transfer\" : 100\n",
    "}\n",
    "Max = max(customer_orders.values())\n",
    "for category, units in customer_orders.items() :\n",
    "    if units == Max :\n",
    "        print(f\"{category.title()} is one of most popular with {units} units\")"
   ]
  },
  {
   "cell_type": "code",
   "execution_count": null,
   "id": "9a05af93-7dce-4f00-9f80-2376e538e404",
   "metadata": {},
   "outputs": [],
   "source": [
    "#Question 2:"
   ]
  },
  {
   "cell_type": "code",
   "execution_count": 11,
   "id": "63a2c2d6-eec1-4149-99a8-feff596b83ce",
   "metadata": {},
   "outputs": [
    {
     "name": "stdout",
     "output_type": "stream",
     "text": [
      "Average grades for each student:\n",
      "Alice: 87.67\n",
      "Bob: 80.00\n",
      "Charlie: 92.00\n",
      "David: 87.67\n",
      "\n",
      "Highest grade in Math: Charlie (95)\n",
      "Lowest grade in Math: Bob (78)\n",
      "\n",
      "Students sorted by average grade:\n",
      "Charlie: 92.00\n",
      "Alice: 87.67\n",
      "David: 87.67\n",
      "Bob: 80.00\n"
     ]
    }
   ],
   "source": [
    "students = {\n",
    "    \"Alice\": {\"Math\": 90, \"English\": 85, \"Science\": 88},\n",
    "    \"Bob\": {\"Math\": 78, \"English\": 82, \"Science\": 80},\n",
    "    \"Charlie\": {\"Math\": 95, \"English\": 92, \"Science\": 89},\n",
    "    \"David\": {\"Math\": 88, \"English\": 84, \"Science\": 91},\n",
    "}\n",
    "averages = {student: sum(grades.values()) / len(grades) for student, grades in students.items()}\n",
    "subject = \"Math\"\n",
    "highest_student = max(students, key=lambda s: students[s][subject])\n",
    "lowest_student = min(students, key=lambda s: students[s][subject])\n",
    "sorted_students = sorted(averages.items(), key=lambda x: x[1], reverse=True)\n",
    "print(\"Average grades for each student:\")\n",
    "for student, avg in averages.items():\n",
    "    print(f\"{student}: {avg:.2f}\")\n",
    "print(f\"\\nHighest grade in {subject}: {highest_student} ({students[highest_student][subject]})\")\n",
    "print(f\"Lowest grade in {subject}: {lowest_student} ({students[lowest_student][subject]})\")\n",
    "print(\"\\nStudents sorted by average grade:\")\n",
    "for student, avg in sorted_students:\n",
    "    print(f\"{student}: {avg:.2f}\")"
   ]
  },
  {
   "cell_type": "code",
   "execution_count": null,
   "id": "db131469-acbb-4932-a1ab-283386b5f3f6",
   "metadata": {},
   "outputs": [],
   "source": [
    "#Question 3:"
   ]
  },
  {
   "cell_type": "code",
   "execution_count": 37,
   "id": "0126cfc0-4698-4093-9272-d51a49b1e4de",
   "metadata": {},
   "outputs": [
    {
     "name": "stdout",
     "output_type": "stream",
     "text": [
      "Added Mango to inventory.\n",
      "Updated Apple's quantity.\n",
      "\n",
      "Total Inventory Value: $172.50\n",
      "\n",
      "Low-stock items:\n"
     ]
    }
   ],
   "source": [
    "inventory = {\n",
    "    \"Apple\": {\"quantity\": 50, \"price\": 0.5},\n",
    "    \"Banana\": {\"quantity\": 30, \"price\": 0.25},\n",
    "    \"Orange\": {\"quantity\": 20, \"price\": 0.75},\n",
    "}\n",
    "def add_product(name, quantity, price):\n",
    "    inventory[name] = {\"quantity\": quantity, \"price\": price}\n",
    "    print(f\"Added {name} to inventory.\")\n",
    "def update_quantity(name, quantity):\n",
    "    if name in inventory:\n",
    "        inventory[name][\"quantity\"] += quantity\n",
    "        print(f\"Updated {name}'s quantity.\")\n",
    "    else:\n",
    "        print(f\"{name} not found in inventory.\")\n",
    "def total_inventory_value():\n",
    "    return sum(item[\"quantity\"] * item[\"price\"] for item in inventory.values())\n",
    "def low_stock_items():\n",
    "    for name, item in inventory.items():\n",
    "        if item[\"quantity\"] < 20:\n",
    "            print(f\"{name}: {item['quantity']} units\")\n",
    "add_product(\"Mango\", 100, 1.2)\n",
    "update_quantity(\"Apple\", 10)\n",
    "total_value = total_inventory_value()\n",
    "print(f\"\\nTotal Inventory Value: ${total_value:.2f}\")\n",
    "print(\"\\nLow-stock items:\")\n",
    "low_stock_items()"
   ]
  },
  {
   "cell_type": "code",
   "execution_count": null,
   "id": "6612a473-de3a-42cb-940e-09882e20d355",
   "metadata": {},
   "outputs": [],
   "source": [
    "#Question 4:"
   ]
  },
  {
   "cell_type": "code",
   "execution_count": 17,
   "id": "d5d26d17-4118-4d65-a4bd-50c6774aedd1",
   "metadata": {},
   "outputs": [
    {
     "name": "stdout",
     "output_type": "stream",
     "text": [
      "Added 10 Apple(s) to the cart.\n",
      "Added 5 Banana(s) to the cart.\n",
      "Removed 5 Apple(s) from the cart.\n",
      "\n",
      "Total before discount and tax: $3.75\n",
      "Final cost after discount and tax: $3.54\n"
     ]
    }
   ],
   "source": [
    "inventory = {\n",
    "    \"Apple\": {\"price\": 0.5, \"quantity\": 100},\n",
    "    \"Banana\": {\"price\": 0.25, \"quantity\": 50},\n",
    "    \"Orange\": {\"price\": 0.75, \"quantity\": 80},\n",
    "}\n",
    "cart = {}\n",
    "def add_to_cart(product, quantity):\n",
    "    if product in inventory and inventory[product][\"quantity\"] >= quantity:\n",
    "        cart[product] = {\"price\": inventory[product][\"price\"], \"quantity\": quantity}\n",
    "        inventory[product][\"quantity\"] -= quantity\n",
    "        print(f\"Added {quantity} {product}(s) to the cart.\")\n",
    "    else:\n",
    "        print(f\"Not enough stock for {product}.\")\n",
    "def remove_from_cart(product, quantity):\n",
    "    if product in cart and cart[product][\"quantity\"] >= quantity:\n",
    "        cart[product][\"quantity\"] -= quantity\n",
    "        inventory[product][\"quantity\"] += quantity\n",
    "        if cart[product][\"quantity\"] == 0:\n",
    "            del cart[product]\n",
    "        print(f\"Removed {quantity} {product}(s) from the cart.\")\n",
    "    else:\n",
    "        print(f\"{product} not in cart or insufficient quantity.\")\n",
    "def calculate_total():\n",
    "    return sum(item[\"price\"] * item[\"quantity\"] for item in cart.values())\n",
    "def apply_discount_and_tax(total, discount=0, tax=0):\n",
    "    total_after_discount = total * (1 - discount / 100)\n",
    "    total_after_tax = total_after_discount * (1 + tax / 100)\n",
    "    return total_after_tax\n",
    "add_to_cart(\"Apple\", 10)\n",
    "add_to_cart(\"Banana\", 5)\n",
    "remove_from_cart(\"Apple\", 5)\n",
    "total = calculate_total()\n",
    "print(f\"\\nTotal before discount and tax: ${total:.2f}\")\n",
    "final_cost = apply_discount_and_tax(total, discount=10, tax=5)\n",
    "print(f\"Final cost after discount and tax: ${final_cost:.2f}\")"
   ]
  },
  {
   "cell_type": "code",
   "execution_count": null,
   "id": "1bb3ea55-b730-4fe2-ba07-86869722e398",
   "metadata": {},
   "outputs": [],
   "source": [
    "#Question 5:"
   ]
  },
  {
   "cell_type": "code",
   "execution_count": 19,
   "id": "faf528da-ecaa-4d91-807a-5a9a12923112",
   "metadata": {},
   "outputs": [
    {
     "name": "stdout",
     "output_type": "stream",
     "text": [
      "Alice's average grade: 84.33\n",
      "Bob's average grade: 79.00\n",
      "Charlie's average grade: 90.33\n",
      "David's average grade: 65.00\n"
     ]
    }
   ],
   "source": [
    "student_grades = {\n",
    "    \"Alice\": [85, 90, 78],\n",
    "    \"Bob\": [75, 80, 82],\n",
    "    \"Charlie\": [92, 88, 91],\n",
    "    \"David\": [60, 65, 70]\n",
    "}\n",
    "def calculate_average(grades):\n",
    "    return sum(grades) / len(grades)\n",
    "for student, grades in student_grades.items():\n",
    "    average = calculate_average(grades)\n",
    "    print(f\"{student}'s average grade: {average:.2f}\")"
   ]
  },
  {
   "cell_type": "code",
   "execution_count": null,
   "id": "1c39119d-f3ee-4a7d-9352-caa9704eefd5",
   "metadata": {},
   "outputs": [],
   "source": [
    "#Question 6:"
   ]
  },
  {
   "cell_type": "code",
   "execution_count": 21,
   "id": "65fdd870-5a75-4026-b562-bdcf0c119e68",
   "metadata": {},
   "outputs": [
    {
     "name": "stdout",
     "output_type": "stream",
     "text": [
      "Person's Information:\n",
      "Name: John Doe\n",
      "Age: 30\n",
      "City: New York\n",
      "Hobbies: reading, cycling, painting\n"
     ]
    }
   ],
   "source": [
    "ali = {\n",
    "    \"name\": \"John Doe\",\n",
    "    \"age\": 30,\n",
    "    \"city\": \"New York\",\n",
    "    \"hobbies\": [\"reading\", \"cycling\", \"painting\"]\n",
    "}\n",
    "print(\"Person's Information:\")\n",
    "print(f\"Name: {ali['name']}\")\n",
    "print(f\"Age: {ali['age']}\")\n",
    "print(f\"City: {ali['city']}\")\n",
    "print(f\"Hobbies: {', '.join(ali['hobbies'])}\")"
   ]
  },
  {
   "cell_type": "code",
   "execution_count": null,
   "id": "30467b62-aa12-4cfe-a861-a32a15be2029",
   "metadata": {},
   "outputs": [],
   "source": [
    "#Question 7:"
   ]
  },
  {
   "cell_type": "code",
   "execution_count": 23,
   "id": "ef56dd8c-b819-481c-847c-3dc562768a4f",
   "metadata": {},
   "outputs": [
    {
     "name": "stdout",
     "output_type": "stream",
     "text": [
      "{'hello': 2, 'world': 2, 'python': 2, 'is': 1, 'great.': 1}\n"
     ]
    }
   ],
   "source": [
    "def count_word_frequency(text):\n",
    "    words = text.lower().split()\n",
    "    word_count = {}\n",
    "    for word in words:\n",
    "        word_count[word] = word_count.get(word, 0) + 1\n",
    "    return word_count\n",
    "text = \"Hello world world hello Python python is great.\"\n",
    "result = count_word_frequency(text)\n",
    "print(result)"
   ]
  },
  {
   "cell_type": "code",
   "execution_count": null,
   "id": "5c6f8a4b-714d-4578-8c47-0ee23318140d",
   "metadata": {},
   "outputs": [],
   "source": [
    "#Question 8:"
   ]
  },
  {
   "cell_type": "code",
   "execution_count": 29,
   "id": "61fd5c2b-ef5c-4f87-a6fb-c2e592cd9c65",
   "metadata": {},
   "outputs": [
    {
     "name": "stdout",
     "output_type": "stream",
     "text": [
      "Store: S\n",
      "Quit: Q\n"
     ]
    },
    {
     "name": "stdin",
     "output_type": "stream",
     "text": [
      "Enter Product Name:  furniture\n",
      "Enter number of units:  34\n",
      "Enter S/Q: s\n",
      "Enter Product Name:  car\n",
      "Enter number of units:  67\n",
      "Enter S/Q: q\n"
     ]
    },
    {
     "name": "stdout",
     "output_type": "stream",
     "text": [
      "{'furniture': 34, 'car': 67}\n"
     ]
    }
   ],
   "source": [
    "Inventory = {}\n",
    "print(\"Store: S\\nQuit: Q\")\n",
    "while True :\n",
    "    product = input(\"Enter Product Name: \")\n",
    "    units = int(input(\"Enter number of units: \"))\n",
    "    option = input(\"Enter S/Q:\").lower()\n",
    "    Inventory[product] = units\n",
    "    if option == \"q\" :\n",
    "        break\n",
    "print(Inventory)"
   ]
  },
  {
   "cell_type": "code",
   "execution_count": null,
   "id": "64a79426-d73b-45b2-8f89-93fe066a878f",
   "metadata": {},
   "outputs": [],
   "source": [
    "#Question 9:"
   ]
  },
  {
   "cell_type": "code",
   "execution_count": 31,
   "id": "1d6eba0a-1ce5-4173-9831-1362bba37713",
   "metadata": {},
   "outputs": [
    {
     "name": "stdout",
     "output_type": "stream",
     "text": [
      "Trucks is one of most popular with 2100 units\n"
     ]
    }
   ],
   "source": [
    "customer_orders = {\n",
    "    \"cars\" : 1000,\n",
    "    \"trains\" : 200,\n",
    "    \"planes\" : 900,\n",
    "    \"trucks\" : 2100,\n",
    "    \"tanks\" : 400,\n",
    "    \"Armored Transfer\" : 100\n",
    "}\n",
    "Max = max(customer_orders.values())\n",
    "for category, units in customer_orders.items() :\n",
    "    if units == Max :\n",
    "        print(f\"{category.title()} is one of most popular with {units} units\")"
   ]
  },
  {
   "cell_type": "code",
   "execution_count": null,
   "id": "d9bcadd8-fce2-407f-8532-666ae3125892",
   "metadata": {},
   "outputs": [],
   "source": []
  }
 ],
 "metadata": {
  "kernelspec": {
   "display_name": "Python 3 (ipykernel)",
   "language": "python",
   "name": "python3"
  },
  "language_info": {
   "codemirror_mode": {
    "name": "ipython",
    "version": 3
   },
   "file_extension": ".py",
   "mimetype": "text/x-python",
   "name": "python",
   "nbconvert_exporter": "python",
   "pygments_lexer": "ipython3",
   "version": "3.12.4"
  }
 },
 "nbformat": 4,
 "nbformat_minor": 5
}
